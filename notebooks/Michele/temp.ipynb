{
 "cells": [
  {
   "cell_type": "markdown",
   "metadata": {},
   "source": [
    "# shapefile Victoria:\n",
    "* Obtained from: https://datashare.maps.vic.gov.au/order/configuration\n",
    "\n",
    "Options we selected:\n",
    "* Projection: VicGrid on GDA2020\n",
    "* Buffer: 1 km\n",
    "* Format: ESRI Shape file\n",
    "* Area: Whole dataset"
   ]
  }
 ],
 "metadata": {
  "language_info": {
   "name": "python"
  }
 },
 "nbformat": 4,
 "nbformat_minor": 2
}
